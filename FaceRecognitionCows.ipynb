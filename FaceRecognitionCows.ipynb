{
  "nbformat": 4,
  "nbformat_minor": 0,
  "metadata": {
    "colab": {
      "name": "FaceRecognitionCows.ipynb",
      "provenance": []
    },
    "kernelspec": {
      "name": "python3",
      "display_name": "Python 3"
    }
  },
  "cells": [
    {
      "cell_type": "markdown",
      "metadata": {
        "id": "00nUaNKUT67l",
        "colab_type": "text"
      },
      "source": [
        "# **Tools: common functions for training and testing**"
      ]
    },
    {
      "cell_type": "code",
      "metadata": {
        "id": "dOro7WgxJ1Io",
        "colab_type": "code",
        "colab": {}
      },
      "source": [
        "from PIL import Image\n",
        "import numpy as np\n",
        "import os\n",
        "import cv2\n",
        "import keras\n",
        "\n",
        "\n",
        "# Making images into array\n",
        "def imgToArray(rootdir):\n",
        "    data = []\n",
        "    labels = []\n",
        "    for subdir, dirs, files in os.walk(rootdir):\n",
        "        for dir in dirs:\n",
        "            currDir = os.path.join(subdir, dir)\n",
        "            for file in os.listdir(currDir):\n",
        "                if \".jpg\" in file:\n",
        "                    imag = cv2.imread(os.path.join(currDir, file))\n",
        "                    img_from_ar = Image.fromarray(imag, 'RGB')\n",
        "                    resized_image = img_from_ar.resize((50, 50))\n",
        "                    data.append(np.array(resized_image))\n",
        "                    labels.append(int(dir)-1)\n",
        "    return data, labels\n",
        "\n",
        "\n",
        "# Convert data and labels to numpy arrays\n",
        "def convertToNumpy(data, labels):\n",
        "    cows=np.array(data)\n",
        "    labels=np.array(labels)\n",
        "    return cows,labels\n",
        "\n",
        "\n",
        "# Create data - X and Y\n",
        "def createData(cows, labels):\n",
        "    # Ensure that the input features are scaled between 0.0 and 1.0\n",
        "    x_data = cows.astype('float32')/255\n",
        "    # One hot encoding\n",
        "    num_classes = len(np.unique(labels))\n",
        "    y_data=keras.utils.to_categorical(labels,num_classes)\n",
        "    return x_data, y_data\n"
      ],
      "execution_count": 72,
      "outputs": []
    },
    {
      "cell_type": "markdown",
      "metadata": {
        "id": "aOnjJzDcUaz_",
        "colab_type": "text"
      },
      "source": [
        "# **Training:**"
      ]
    },
    {
      "cell_type": "code",
      "metadata": {
        "id": "ojbXKZcdJiYZ",
        "colab_type": "code",
        "colab": {}
      },
      "source": [
        "from keras.models import Sequential\n",
        "from keras.layers import Conv2D,MaxPooling2D,Dense,Flatten,Dropout\n",
        "\n",
        "# -------------------------- Prepare Train Set --------------------------\n",
        "# Making images into array\n",
        "def train_imgToArray():\n",
        "    rootdirTrain = '/content/datasets/train'\n",
        "    dataTrain, labelsTrain = imgToArray(rootdirTrain)\n",
        "    return dataTrain, labelsTrain\n",
        "\n",
        "\n",
        "# Convert dataTrain and labelsTrain to numpy arrays\n",
        "def train_convertToNumpy(dataTrain, labelsTrain):\n",
        "    cowsTrain, labelsTrain = convertToNumpy(dataTrain, labelsTrain)\n",
        "    return cowsTrain,labelsTrain\n",
        "\n",
        "\n",
        "# Create data - X and Y\n",
        "def train_createData(cowsTrain, labelsTrain):\n",
        "    x_train, y_train = createData(cowsTrain, labelsTrain)\n",
        "    return x_train, y_train\n",
        "\n",
        "\n",
        "# -------------------------- Making Keras model --------------------------\n",
        "def kerasModel():\n",
        "    model=Sequential()\n",
        "    model.add(Conv2D(filters=16,kernel_size=2,padding=\"same\",activation=\"relu\",input_shape=(50,50,3)))\n",
        "    model.add(MaxPooling2D(pool_size=2))\n",
        "    model.add(Conv2D(filters=32,kernel_size=2,padding=\"same\",activation=\"relu\"))\n",
        "    model.add(MaxPooling2D(pool_size=2))\n",
        "    model.add(Conv2D(filters=64,kernel_size=2,padding=\"same\",activation=\"relu\"))\n",
        "    model.add(MaxPooling2D(pool_size=2))\n",
        "    model.add(Dropout(0.2))\n",
        "    model.add(Flatten())\n",
        "    model.add(Dense(500,activation=\"relu\"))\n",
        "    model.add(Dropout(0.2))\n",
        "    model.add(Dense(46,activation=\"softmax\"))\n",
        "    model.summary()\n",
        "\n",
        "    # compile the model\n",
        "    model.compile(loss='categorical_crossentropy', optimizer='adam',metrics=['accuracy'])\n",
        "    return model\n",
        "\n",
        "\n",
        "# -------------------------- Train the model --------------------------\n",
        "def training(model, x_train, y_train):\n",
        "    model.fit(x_train,y_train,batch_size=50,epochs=5,verbose=1)\n",
        "    return model"
      ],
      "execution_count": 74,
      "outputs": []
    },
    {
      "cell_type": "markdown",
      "metadata": {
        "id": "TNDbuS1wUfUL",
        "colab_type": "text"
      },
      "source": [
        "# **Testing:**"
      ]
    },
    {
      "cell_type": "code",
      "metadata": {
        "id": "uJ_zmpOHJwyl",
        "colab_type": "code",
        "colab": {}
      },
      "source": [
        "# -------------------------- Prepare Test Set --------------------------\n",
        "# Making images into array\n",
        "def test_imgToArray():\n",
        "    rootdirTest = '/content/datasets/test'\n",
        "    dataTest, labelsTest = imgToArray(rootdirTest)\n",
        "    return dataTest,labelsTest\n",
        "\n",
        "\n",
        "# Convert dataTest and labelsTest to numpy arrays\n",
        "def test_convertToNumpy(dataTest, labelsTest):\n",
        "    cowsTest, labelsTest = convertToNumpy(dataTest, labelsTest)\n",
        "    return cowsTest, labelsTest\n",
        "\n",
        "def test_createData(cowsTest, labelsTest):\n",
        "    x_test, y_test = createData(cowsTest, labelsTest)\n",
        "    return x_test, y_test\n",
        "\n",
        "\n",
        "# -------------------------- Test the model --------------------------\n",
        "def testing(model, x_test, y_test):\n",
        "    score = model.evaluate(x_test, y_test, verbose=1)\n",
        "    print('\\n', 'Test accuracy:', score[1])\n"
      ],
      "execution_count": 75,
      "outputs": []
    },
    {
      "cell_type": "markdown",
      "metadata": {
        "id": "qck2VsAlUiVE",
        "colab_type": "text"
      },
      "source": [
        "# **Main:**"
      ]
    },
    {
      "cell_type": "code",
      "metadata": {
        "id": "wC2qerzHKJhh",
        "colab_type": "code",
        "colab": {
          "base_uri": "https://localhost:8080/",
          "height": 739
        },
        "outputId": "ef81ee64-2cfe-4e95-b358-cd88b44e09d1"
      },
      "source": [
        "dataTrain, labelsTrain = train_imgToArray()\n",
        "cowsTrain, labelsTrain = train_convertToNumpy(dataTrain, labelsTrain)\n",
        "x_train, y_train = train_createData(cowsTrain, labelsTrain)\n",
        "model = kerasModel()\n",
        "model = training(model, x_train, y_train)\n",
        "\n",
        "dataTest, labelsTest = test_imgToArray()\n",
        "cowsTest, labelsTest = test_convertToNumpy(dataTest, labelsTest)\n",
        "x_test, y_test = test_createData(cowsTest, labelsTest)\n",
        "testing(model, x_test, y_test)\n"
      ],
      "execution_count": 77,
      "outputs": [
        {
          "output_type": "stream",
          "text": [
            "Model: \"sequential_5\"\n",
            "_________________________________________________________________\n",
            "Layer (type)                 Output Shape              Param #   \n",
            "=================================================================\n",
            "conv2d_15 (Conv2D)           (None, 50, 50, 16)        208       \n",
            "_________________________________________________________________\n",
            "max_pooling2d_15 (MaxPooling (None, 25, 25, 16)        0         \n",
            "_________________________________________________________________\n",
            "conv2d_16 (Conv2D)           (None, 25, 25, 32)        2080      \n",
            "_________________________________________________________________\n",
            "max_pooling2d_16 (MaxPooling (None, 12, 12, 32)        0         \n",
            "_________________________________________________________________\n",
            "conv2d_17 (Conv2D)           (None, 12, 12, 64)        8256      \n",
            "_________________________________________________________________\n",
            "max_pooling2d_17 (MaxPooling (None, 6, 6, 64)          0         \n",
            "_________________________________________________________________\n",
            "dropout_10 (Dropout)         (None, 6, 6, 64)          0         \n",
            "_________________________________________________________________\n",
            "flatten_5 (Flatten)          (None, 2304)              0         \n",
            "_________________________________________________________________\n",
            "dense_10 (Dense)             (None, 500)               1152500   \n",
            "_________________________________________________________________\n",
            "dropout_11 (Dropout)         (None, 500)               0         \n",
            "_________________________________________________________________\n",
            "dense_11 (Dense)             (None, 46)                23046     \n",
            "=================================================================\n",
            "Total params: 1,186,090\n",
            "Trainable params: 1,186,090\n",
            "Non-trainable params: 0\n",
            "_________________________________________________________________\n",
            "Epoch 1/5\n",
            "85/85 [==============================] - 8s 97ms/step - loss: 2.6414 - accuracy: 0.3047\n",
            "Epoch 2/5\n",
            "85/85 [==============================] - 8s 97ms/step - loss: 0.8875 - accuracy: 0.7552\n",
            "Epoch 3/5\n",
            "85/85 [==============================] - 8s 98ms/step - loss: 0.4834 - accuracy: 0.8601\n",
            "Epoch 4/5\n",
            "85/85 [==============================] - 8s 98ms/step - loss: 0.2732 - accuracy: 0.9248\n",
            "Epoch 5/5\n",
            "85/85 [==============================] - 8s 98ms/step - loss: 0.1721 - accuracy: 0.9498\n",
            "16/16 [==============================] - 0s 22ms/step - loss: 0.2601 - accuracy: 0.9315\n",
            "\n",
            " Test accuracy: 0.9314516186714172\n"
          ],
          "name": "stdout"
        }
      ]
    }
  ]
}